{
 "cells": [
  {
   "cell_type": "code",
   "execution_count": 25,
   "metadata": {},
   "outputs": [
    {
     "name": "stdout",
     "output_type": "stream",
     "text": [
      "The dotenv extension is already loaded. To reload it, use:\n",
      "  %reload_ext dotenv\n"
     ]
    }
   ],
   "source": [
    "%load_ext dotenv\n",
    "%dotenv"
   ]
  },
  {
   "cell_type": "markdown",
   "metadata": {},
   "source": [
    "# Recieving Fact of the Day"
   ]
  },
  {
   "cell_type": "code",
   "execution_count": 26,
   "metadata": {},
   "outputs": [
    {
     "name": "stdout",
     "output_type": "stream",
     "text": [
      "{'fact': 'The average person walks the equivalent of five times around the world in their lifetime.', 'source': 'BBC News'}\n"
     ]
    }
   ],
   "source": [
    "import json\n",
    "from openai import OpenAI\n",
    "\n",
    "client = OpenAI()\n",
    "\n",
    "\n",
    "response = client.chat.completions.create(\n",
    "    model=\"gpt-3.5-turbo\",\n",
    "    messages=[\n",
    "        {\"role\": \"system\", \"content\": \"You are a knowledge assistant. You can answer questions about any topic.\"},\n",
    "        {\"role\": \"user\", \"content\": \"Tell me a random fact of the day, based on information you found in the internet. I want to learn something new and it is important that I have a valid source, so be 100% sure to tell only true and reliable facts. Don't tell me the source as link, rather tell me the provider (Organisation, Magazine, Websitename, etc.). Give me the fact and its source in JSON format like this: {\\\"fact\\\": \\\"Here is the fact\\\", \\\"source\\\": \\\"Here is the source\\\"}. Be sure that you don't include any other information in the response.\"},\n",
    "    ]\n",
    ")\n",
    "assistant_reply = json.loads(response.choices[0].message.content)\n",
    "\n",
    "print(assistant_reply)\n",
    "fact = assistant_reply['fact']\n",
    "source = assistant_reply['source']  "
   ]
  },
  {
   "cell_type": "markdown",
   "metadata": {},
   "source": [
    "# Recieving Background-Picture"
   ]
  },
  {
   "cell_type": "code",
   "execution_count": 29,
   "metadata": {},
   "outputs": [
    {
     "name": "stdout",
     "output_type": "stream",
     "text": [
      "https://oaidalleapiprodscus.blob.core.windows.net/private/org-wptybHHtLv7LMzdg4i3YhJt4/user-ypp0lyHryGL8poRbrZOKGJCr/img-3hSf4OxTCJKjDlYJxCPhvMeM.png?st=2023-11-10T17%3A44%3A07Z&se=2023-11-10T19%3A44%3A07Z&sp=r&sv=2021-08-06&sr=b&rscd=inline&rsct=image/png&skoid=6aaadede-4fb3-4698-a8f6-684d7786b067&sktid=a48cca56-e6da-484e-a814-9c849652bcb3&skt=2023-11-10T14%3A23%3A54Z&ske=2023-11-11T14%3A23%3A54Z&sks=b&skv=2021-08-06&sig=gJRQ7/6WOGf5pc2IbZIsJdDLyYRYP/Ggie5H3%2BN2JMY%3D\n"
     ]
    }
   ],
   "source": [
    "import urllib.request, datetime, os\n",
    "from openai import OpenAI\n",
    "client = OpenAI()\n",
    "\n",
    "response = client.images.generate(\n",
    "  model = \"dall-e-3\",\n",
    "  prompt=f\"{fact}. Generate a picture which suits to that fact. Dont add any text on the picture and avoid symbols.\",\n",
    "  size=\"1024x1024\",\n",
    "  quality=\"standard\",\n",
    "  n=1\n",
    ")\n",
    "image_url = response.data[0].url\n",
    "print(image_url)\n",
    "\n",
    "now = datetime.datetime.now()\n",
    "now = now.strftime(\"%Y-%m-%d-%H%M%S\")\n",
    "\n",
    "MYDIR = (\"imageOfTheDay\")\n",
    "CHECK_FOLDER = os.path.isdir(MYDIR)\n",
    "if not CHECK_FOLDER:\n",
    "    os.makedirs(MYDIR)\n",
    "    print(\"Created folder : \", MYDIR)\n",
    "\n",
    "picture = urllib.request.urlretrieve(image_url, f\"imageOfTheDay/{now}.png\")"
   ]
  },
  {
   "cell_type": "markdown",
   "metadata": {},
   "source": [
    "# Add content to picture"
   ]
  },
  {
   "cell_type": "code",
   "execution_count": 30,
   "metadata": {},
   "outputs": [],
   "source": [
    "from PIL import Image, ImageDraw, ImageFont\n",
    "import textwrap\n",
    "\n",
    "# Make picture less transparent\n",
    "image = Image.open(f\"imageOfTheDay/{now}.png\")\n",
    "image.putalpha(127)\n",
    "\n",
    "# Add fact to picture\n",
    "from PIL import Image, ImageDraw, ImageFont\n",
    "draw = ImageDraw.Draw(image)\n",
    "font_path = \"/System/Library/Fonts/Helvetica.ttc\"\n",
    "font = ImageFont.truetype(font_path, 36)\n",
    "text_color = (255, 255, 255) \n",
    "text_position = (image.width // 2, image.height // 2) \n",
    "max_text_width = 0.8 * image.width \n",
    "wrapper = textwrap.TextWrapper(width=30) \n",
    "text = wrapper.fill(fact)\n",
    "draw.text(text_position, text, fill=text_color, font=font, anchor=\"mm\",align=\"center\")\n",
    "\n",
    "#Add source to picture\n",
    "additional_font_size = 24 \n",
    "additional_font = ImageFont.truetype(font_path, additional_font_size)\n",
    "additional_text_color = (128, 128, 128) \n",
    "additional_text_position = (20, image.height - 40) \n",
    "draw.text(additional_text_position, f\"Source: {source}\", fill=additional_text_color, font=additional_font)\n",
    "\n",
    "# Save picture\n",
    "image.save(f\"imageOfTheDay/{now}.png\")\n"
   ]
  }
 ],
 "metadata": {
  "kernelspec": {
   "display_name": "Python 3",
   "language": "python",
   "name": "python3"
  },
  "language_info": {
   "codemirror_mode": {
    "name": "ipython",
    "version": 3
   },
   "file_extension": ".py",
   "mimetype": "text/x-python",
   "name": "python",
   "nbconvert_exporter": "python",
   "pygments_lexer": "ipython3",
   "version": "3.9.6"
  }
 },
 "nbformat": 4,
 "nbformat_minor": 2
}
